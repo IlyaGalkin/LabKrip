{
 "cells": [
  {
   "cell_type": "markdown",
   "metadata": {},
   "source": [
    "# Lab 2"
   ]
  },
  {
   "cell_type": "code",
   "execution_count": 2,
   "metadata": {},
   "outputs": [],
   "source": [
    "import numpy as np\n",
    "import pandas as pd\n",
    "import matplotlib.pyplot as plt\n",
    "import seaborn as sns \n",
    "import re\n",
    "%matplotlib inline"
   ]
  },
  {
   "cell_type": "markdown",
   "metadata": {},
   "source": [
    "## C2.1 Реалiзуйте криптосистему AES-128, включаючи алгоритми утворення раундових ключiв, шифрування i дешифрування."
   ]
  },
  {
   "cell_type": "code",
   "execution_count": 3,
   "metadata": {},
   "outputs": [],
   "source": [
    "s_box = (\n",
    "    0x63, 0x7C, 0x77, 0x7B, 0xF2, 0x6B, 0x6F, 0xC5, 0x30, 0x01, 0x67, 0x2B, 0xFE, 0xD7, 0xAB, 0x76,\n",
    "    0xCA, 0x82, 0xC9, 0x7D, 0xFA, 0x59, 0x47, 0xF0, 0xAD, 0xD4, 0xA2, 0xAF, 0x9C, 0xA4, 0x72, 0xC0,\n",
    "    0xB7, 0xFD, 0x93, 0x26, 0x36, 0x3F, 0xF7, 0xCC, 0x34, 0xA5, 0xE5, 0xF1, 0x71, 0xD8, 0x31, 0x15,\n",
    "    0x04, 0xC7, 0x23, 0xC3, 0x18, 0x96, 0x05, 0x9A, 0x07, 0x12, 0x80, 0xE2, 0xEB, 0x27, 0xB2, 0x75,\n",
    "    0x09, 0x83, 0x2C, 0x1A, 0x1B, 0x6E, 0x5A, 0xA0, 0x52, 0x3B, 0xD6, 0xB3, 0x29, 0xE3, 0x2F, 0x84,\n",
    "    0x53, 0xD1, 0x00, 0xED, 0x20, 0xFC, 0xB1, 0x5B, 0x6A, 0xCB, 0xBE, 0x39, 0x4A, 0x4C, 0x58, 0xCF,\n",
    "    0xD0, 0xEF, 0xAA, 0xFB, 0x43, 0x4D, 0x33, 0x85, 0x45, 0xF9, 0x02, 0x7F, 0x50, 0x3C, 0x9F, 0xA8,\n",
    "    0x51, 0xA3, 0x40, 0x8F, 0x92, 0x9D, 0x38, 0xF5, 0xBC, 0xB6, 0xDA, 0x21, 0x10, 0xFF, 0xF3, 0xD2,\n",
    "    0xCD, 0x0C, 0x13, 0xEC, 0x5F, 0x97, 0x44, 0x17, 0xC4, 0xA7, 0x7E, 0x3D, 0x64, 0x5D, 0x19, 0x73,\n",
    "    0x60, 0x81, 0x4F, 0xDC, 0x22, 0x2A, 0x90, 0x88, 0x46, 0xEE, 0xB8, 0x14, 0xDE, 0x5E, 0x0B, 0xDB,\n",
    "    0xE0, 0x32, 0x3A, 0x0A, 0x49, 0x06, 0x24, 0x5C, 0xC2, 0xD3, 0xAC, 0x62, 0x91, 0x95, 0xE4, 0x79,\n",
    "    0xE7, 0xC8, 0x37, 0x6D, 0x8D, 0xD5, 0x4E, 0xA9, 0x6C, 0x56, 0xF4, 0xEA, 0x65, 0x7A, 0xAE, 0x08,\n",
    "    0xBA, 0x78, 0x25, 0x2E, 0x1C, 0xA6, 0xB4, 0xC6, 0xE8, 0xDD, 0x74, 0x1F, 0x4B, 0xBD, 0x8B, 0x8A,\n",
    "    0x70, 0x3E, 0xB5, 0x66, 0x48, 0x03, 0xF6, 0x0E, 0x61, 0x35, 0x57, 0xB9, 0x86, 0xC1, 0x1D, 0x9E,\n",
    "    0xE1, 0xF8, 0x98, 0x11, 0x69, 0xD9, 0x8E, 0x94, 0x9B, 0x1E, 0x87, 0xE9, 0xCE, 0x55, 0x28, 0xDF,\n",
    "    0x8C, 0xA1, 0x89, 0x0D, 0xBF, 0xE6, 0x42, 0x68, 0x41, 0x99, 0x2D, 0x0F, 0xB0, 0x54, 0xBB, 0x16,\n",
    ")\n",
    "\n",
    "inv_s_box = (\n",
    "    0x52, 0x09, 0x6A, 0xD5, 0x30, 0x36, 0xA5, 0x38, 0xBF, 0x40, 0xA3, 0x9E, 0x81, 0xF3, 0xD7, 0xFB,\n",
    "    0x7C, 0xE3, 0x39, 0x82, 0x9B, 0x2F, 0xFF, 0x87, 0x34, 0x8E, 0x43, 0x44, 0xC4, 0xDE, 0xE9, 0xCB,\n",
    "    0x54, 0x7B, 0x94, 0x32, 0xA6, 0xC2, 0x23, 0x3D, 0xEE, 0x4C, 0x95, 0x0B, 0x42, 0xFA, 0xC3, 0x4E,\n",
    "    0x08, 0x2E, 0xA1, 0x66, 0x28, 0xD9, 0x24, 0xB2, 0x76, 0x5B, 0xA2, 0x49, 0x6D, 0x8B, 0xD1, 0x25,\n",
    "    0x72, 0xF8, 0xF6, 0x64, 0x86, 0x68, 0x98, 0x16, 0xD4, 0xA4, 0x5C, 0xCC, 0x5D, 0x65, 0xB6, 0x92,\n",
    "    0x6C, 0x70, 0x48, 0x50, 0xFD, 0xED, 0xB9, 0xDA, 0x5E, 0x15, 0x46, 0x57, 0xA7, 0x8D, 0x9D, 0x84,\n",
    "    0x90, 0xD8, 0xAB, 0x00, 0x8C, 0xBC, 0xD3, 0x0A, 0xF7, 0xE4, 0x58, 0x05, 0xB8, 0xB3, 0x45, 0x06,\n",
    "    0xD0, 0x2C, 0x1E, 0x8F, 0xCA, 0x3F, 0x0F, 0x02, 0xC1, 0xAF, 0xBD, 0x03, 0x01, 0x13, 0x8A, 0x6B,\n",
    "    0x3A, 0x91, 0x11, 0x41, 0x4F, 0x67, 0xDC, 0xEA, 0x97, 0xF2, 0xCF, 0xCE, 0xF0, 0xB4, 0xE6, 0x73,\n",
    "    0x96, 0xAC, 0x74, 0x22, 0xE7, 0xAD, 0x35, 0x85, 0xE2, 0xF9, 0x37, 0xE8, 0x1C, 0x75, 0xDF, 0x6E,\n",
    "    0x47, 0xF1, 0x1A, 0x71, 0x1D, 0x29, 0xC5, 0x89, 0x6F, 0xB7, 0x62, 0x0E, 0xAA, 0x18, 0xBE, 0x1B,\n",
    "    0xFC, 0x56, 0x3E, 0x4B, 0xC6, 0xD2, 0x79, 0x20, 0x9A, 0xDB, 0xC0, 0xFE, 0x78, 0xCD, 0x5A, 0xF4,\n",
    "    0x1F, 0xDD, 0xA8, 0x33, 0x88, 0x07, 0xC7, 0x31, 0xB1, 0x12, 0x10, 0x59, 0x27, 0x80, 0xEC, 0x5F,\n",
    "    0x60, 0x51, 0x7F, 0xA9, 0x19, 0xB5, 0x4A, 0x0D, 0x2D, 0xE5, 0x7A, 0x9F, 0x93, 0xC9, 0x9C, 0xEF,\n",
    "    0xA0, 0xE0, 0x3B, 0x4D, 0xAE, 0x2A, 0xF5, 0xB0, 0xC8, 0xEB, 0xBB, 0x3C, 0x83, 0x53, 0x99, 0x61,\n",
    "    0x17, 0x2B, 0x04, 0x7E, 0xBA, 0x77, 0xD6, 0x26, 0xE1, 0x69, 0x14, 0x63, 0x55, 0x21, 0x0C, 0x7D,\n",
    ")\n",
    "\n",
    "r_con = (\n",
    "    0x00, 0x01, 0x02, 0x04, 0x08, 0x10, 0x20, 0x40,\n",
    "    0x80, 0x1B, 0x36, 0x6C, 0xD8, 0xAB, 0x4D, 0x9A,\n",
    "    0x2F, 0x5E, 0xBC, 0x63, 0xC6, 0x97, 0x35, 0x6A,\n",
    "    0xD4, 0xB3, 0x7D, 0xFA, 0xEF, 0xC5, 0x91, 0x39,\n",
    ")"
   ]
  },
  {
   "cell_type": "code",
   "execution_count": 4,
   "metadata": {},
   "outputs": [],
   "source": [
    "def sub_bytes(state, inv=False):\n",
    "    # замена байтов в таблице state(4х4) по таблице sbox(16х16)\n",
    "    if inv == False: # encrypt\n",
    "        box = s_box\n",
    "    else:   # decrypt\n",
    "        box = inv_s_box\n",
    "    for i in range(4):\n",
    "        for j in range(4):\n",
    "            state[i][j] = box[state[i][j]]\n",
    "    return state\n",
    "\n",
    "\n",
    "def shift_rows(s, inv=False):\n",
    "    # циклический сдвиг в лево на 1\n",
    "    count = 1\n",
    "    if inv == False: # encrypting\n",
    "        s[0] = np.roll(s[0], 1)\n",
    "        s[1] = np.roll(s[1], 2)\n",
    "        s[2] = np.roll(s[2], 3)\n",
    "    else: # decryption\n",
    "        s[0] = np.roll(s[0], 3)\n",
    "        s[1] = np.roll(s[1], 2)\n",
    "        s[2] = np.roll(s[2], 1)\n",
    "    return s"
   ]
  },
  {
   "cell_type": "code",
   "execution_count": 5,
   "metadata": {},
   "outputs": [],
   "source": [
    "xtime = lambda a: (((a << 1) ^ 0x1B) & 0xFF) if (a & 0x80) else (a << 1)\n",
    "def mix_single_column(a):\n",
    "    t = a[0] ^ a[1] ^ a[2] ^ a[3]\n",
    "    u = a[0]\n",
    "    a[0] ^= t ^ xtime(a[0] ^ a[1])\n",
    "    a[1] ^= t ^ xtime(a[1] ^ a[2])\n",
    "    a[2] ^= t ^ xtime(a[2] ^ a[3])\n",
    "    a[3] ^= t ^ xtime(a[3] ^ u)\n",
    "    return a\n",
    "def mix_columns(s, inv = False):\n",
    "    if inv == False:\n",
    "        return [mix_single_column(s[i]) for i in range(4)]\n",
    "    else:\n",
    "        for i in range(4):\n",
    "            u = xtime(xtime(s[i][0] ^ s[i][2]))\n",
    "            v = xtime(xtime(s[i][1] ^ s[i][3]))\n",
    "            s[i][0] ^= u\n",
    "            s[i][1] ^= v\n",
    "            s[i][2] ^= u\n",
    "            s[i][3] ^= v\n",
    "        return [mix_single_column(s[i]) for i in range(4)]"
   ]
  },
  {
   "cell_type": "code",
   "execution_count": 6,
   "metadata": {},
   "outputs": [
    {
     "data": {
      "text/plain": [
       "124"
      ]
     },
     "execution_count": 6,
     "metadata": {},
     "output_type": "execute_result"
    }
   ],
   "source": [
    "s_box[1]"
   ]
  },
  {
   "cell_type": "code",
   "execution_count": 7,
   "metadata": {},
   "outputs": [],
   "source": [
    "def key_expansion(key):\n",
    "    key_symbols = [s_box[ord(symbol)] for symbol in key]\n",
    "    key_schedule = np.array([list(key_symbols[i:i+4]) for i in range(0, len(key), 4)])\n",
    "    for i in range(4, Nb*(Nr+1), 1):\n",
    "        j=1\n",
    "        if (i+1)%Nk == 0:\n",
    "            key_schedule = np.append(key_schedule, [np.array(list(np.roll(key_schedule[i-1], 1)^key_schedule[i-Nk]^r_con[j]), dtype = int)], axis=0)\n",
    "        else:\n",
    "            key_schedule = np.append(key_schedule, [np.array(list(key_schedule[i-Nk]^key_schedule[i-1]), dtype = int)], axis=0)\n",
    "    return key_schedule"
   ]
  },
  {
   "cell_type": "markdown",
   "metadata": {},
   "source": [
    "Nb — число столбцов (32-х битных слов), составляющих State. Для стандарта регламентировано Nb = 4\n",
    "\n",
    "Nk — длина ключа в 32-х битных словах. Для AES, Nk = 4, 6, 8.\n",
    "\n",
    "Nr — количество раундов шифрования. В зависимости от длины ключа, Nr = 10, 12 или 14"
   ]
  },
  {
   "cell_type": "code",
   "execution_count": 8,
   "metadata": {},
   "outputs": [],
   "source": [
    "Nb = 4\n",
    "Nk = 4\n",
    "Nr = 10"
   ]
  },
  {
   "cell_type": "code",
   "execution_count": 20,
   "metadata": {},
   "outputs": [],
   "source": [
    "def add_round_key(key_schedule_i, state):\n",
    "    return np.array([np.array(key_schedule_i[i]^state[i], dtype = int) for i in range(4)])"
   ]
  },
  {
   "cell_type": "code",
   "execution_count": 27,
   "metadata": {},
   "outputs": [],
   "source": [
    "def encrypt(lst_ord, key):\n",
    "    state = np.array([lst_ord[i*4:(i+1)*4] for i in range(0, len(lst_ord)//4)])\n",
    "    key_schedule = key_expansion(key)\n",
    "    state = add_round_key(state, key_schedule[0:4])\n",
    "    for rnd in range(1, Nr):\n",
    "        state = shift_rows(state)\n",
    "        state = sub_bytes(state)\n",
    "        state = add_round_key(state, key_schedule[0+rnd*4:4*(rnd+1)])\n",
    "        state = mix_columns(state)\n",
    "    state = sub_bytes(state)\n",
    "    state = shift_rows(state)\n",
    "    state = add_round_key(state, key_schedule[(Nr)*4:(Nr)*4+4])\n",
    "    output = []\n",
    "    for i in range(4):\n",
    "        for j in range(4):\n",
    "            output.append(state[i][j])\n",
    "    return output"
   ]
  },
  {
   "cell_type": "code",
   "execution_count": 28,
   "metadata": {},
   "outputs": [],
   "source": [
    "def decrypt(cipher, key):\n",
    "    state = [cipher[i*4:(i+1)*4] for i in range(Nb)]\n",
    "    key_schedule = key_expansion(key)\n",
    "    state = add_round_key(state, key_schedule[Nr*4:Nr*4+4])\n",
    "    state = shift_rows(state, inv=True)\n",
    "    state = sub_bytes(state, inv=True)\n",
    "    for rnd in range (Nr-1, 0, -1):\n",
    "        state = mix_columns(state, inv=True)\n",
    "        state = add_round_key(state, key_schedule[0+rnd*4:4*(rnd+1)])\n",
    "        state = sub_bytes(state, inv=True)\n",
    "        state = shift_rows(state, inv=True)\n",
    "    state = add_round_key(state, key_schedule[0:4])\n",
    "    output = []\n",
    "    for i in range(4):\n",
    "        for j in range(4):\n",
    "            output.append(state[i][j])\n",
    "    return output"
   ]
  },
  {
   "cell_type": "code",
   "execution_count": 31,
   "metadata": {},
   "outputs": [
    {
     "name": "stdout",
     "output_type": "stream",
     "text": [
      "enc [244, 19, 87, 87, 2, 122, 59, 140, 2, 82, 51, 224, 21, 96, 148, 14]\n",
      "dec [108, 111, 114, 101, 109, 105, 112, 115, 117, 109, 108, 111, 114, 101, 109, 105]\n"
     ]
    }
   ],
   "source": [
    "key = 'AskaLengliSoryou'\n",
    "text = 'loremipsumloremi'\n",
    "lst_ord = [ord(text[i]) for i in range(int((len(text)//16)*16))]\n",
    "enc = encrypt(lst_ord, key)# шифрует только блоки по 16 так что сначала надо разбить текст на блоки по 16 букв и разбить в массив битов\n",
    "print('enc', enc)\n",
    "dec = decrypt(enc, key)\n",
    "print('dec', dec)"
   ]
  },
  {
   "cell_type": "code",
   "execution_count": 33,
   "metadata": {},
   "outputs": [
    {
     "data": {
      "text/plain": [
       "'loremipsumloremi'"
      ]
     },
     "execution_count": 33,
     "metadata": {},
     "output_type": "execute_result"
    }
   ],
   "source": [
    "def show_txt(input_b):\n",
    "    dec_text = ''\n",
    "    for i in input_b:\n",
    "        dec_text += chr(i)\n",
    "    return dec_text\n",
    "show_txt(dec)"
   ]
  },
  {
   "cell_type": "markdown",
   "metadata": {},
   "source": [
    "# C2.2 Як змiнюється криптотекст, якщо у початковому вiдкритому текстi змiнити один бiт?\n"
   ]
  },
  {
   "cell_type": "code",
   "execution_count": 30,
   "metadata": {},
   "outputs": [
    {
     "name": "stdout",
     "output_type": "stream",
     "text": [
      "enc 1: [244, 19, 87, 87, 2, 122, 59, 140, 2, 82, 51, 224, 21, 96, 148, 14]\n",
      "enc 2: [211, 168, 181, 233, 2, 122, 59, 140, 2, 82, 51, 224, 21, 96, 148, 14]\n"
     ]
    }
   ],
   "source": [
    "key = 'AskaLengliSoryou'\n",
    "text = 'loremipsumloremi'\n",
    "lst_ord = [ord(text[i]) for i in range(int((len(text)//16)*16))]\n",
    "enc = encrypt(lst_ord, key)\n",
    "print('enc 1:', enc)\n",
    "text = 'soremipsumloremi'\n",
    "lst_ord = [ord(text[i]) for i in range(int((len(text)//16)*16))]\n",
    "enc = encrypt(lst_ord, key)\n",
    "print('enc 2:', enc)"
   ]
  },
  {
   "cell_type": "markdown",
   "metadata": {},
   "source": [
    "# C2.3 Реалiзуйте потоковi режими CBC криптосистеми AES-128."
   ]
  },
  {
   "cell_type": "code",
   "execution_count": 71,
   "metadata": {},
   "outputs": [],
   "source": [
    "def cbc(text, key, init_vector, inv = False):\n",
    "    if len(text)<16:\n",
    "        print('Error, kill your self.')\n",
    "    elif inv == False:\n",
    "        lst_ord = np.array([ord(text[i]) for i in range(len(text))])\n",
    "        bloks = np.array([lst_ord[i*16:(i+1)*16] for i in range(int(len(lst_ord)//16))])\n",
    "        enc = [encrypt(bloks[0]^init_vector, key)]\n",
    "        for i in range(1, bloks.shape[0], 1):\n",
    "            enc.append(encrypt(bloks[i]^enc[i-1], key))\n",
    "        output = []\n",
    "        for i in range(len(enc)):\n",
    "            for j in range(len(enc[0])):\n",
    "                output.append(enc[i][j])\n",
    "        return output\n",
    "    else:\n",
    "        bloks = np.array([text[i*16:(i+1)*16] for i in range(int(len(text)//16))])\n",
    "        dec = [np.array(decrypt(bloks[0], key))^init_vector]\n",
    "        for i in range(1, bloks.shape[0], 1):\n",
    "            dec.append(np.array(decrypt(bloks[i], key))^bloks[i-1])\n",
    "        output = []\n",
    "        for i in range(len(dec)):\n",
    "            for j in range(len(dec[0])):\n",
    "                output.append(dec[i][j])\n",
    "        return output"
   ]
  },
  {
   "cell_type": "code",
   "execution_count": 72,
   "metadata": {},
   "outputs": [
    {
     "name": "stdout",
     "output_type": "stream",
     "text": [
      "\n",
      "enc: [20, 236, 86, 137, 70, 143, 88, 20, 71, 84, 219, 44, 93, 107, 193, 116, 58, 200, 5, 140, 98, 224, 33, 67, 23, 227, 214, 201, 4, 74, 171, 224, 230, 129, 202, 45, 155, 223, 25, 148, 188, 47, 153, 53, 97, 153, 241, 180, 43, 237, 247, 255, 105, 242, 61, 189, 162, 115, 233, 14, 72, 247, 218, 220, 135, 253, 153, 210, 3, 192, 143, 192, 233, 59, 114, 179, 22, 50, 180, 45]\n",
      "\n",
      "dec: [108, 111, 114, 101, 109, 105, 112, 115, 117, 109, 108, 111, 114, 101, 109, 105, 112, 115, 117, 109, 108, 111, 114, 101, 109, 105, 112, 115, 117, 109, 108, 111, 114, 101, 109, 105, 112, 115, 117, 109, 108, 111, 114, 101, 109, 105, 112, 115, 117, 109, 108, 111, 114, 101, 109, 105, 112, 115, 117, 109, 108, 111, 114, 101, 109, 105, 112, 115, 117, 109, 108, 111, 114, 101, 109, 105, 112, 115, 117, 109]\n"
     ]
    }
   ],
   "source": [
    "key = 'AskaLengliSoryou'\n",
    "text = 'loremipsumloremipsumloremipsumloremipsumloremipsumloremipsumloremipsumloremipsum'\n",
    "init_v = np.array([1, 1, 1, 2, 1, 1, 1, 3, 1, 1, 1, 1, 1, 1, 1, 1])\n",
    "enc = cbc(text, key, init_v)\n",
    "print('\\nenc:', enc)\n",
    "dec = cbc(enc, key, init_v, inv = True)\n",
    "print('\\ndec:', dec)"
   ]
  },
  {
   "cell_type": "code",
   "execution_count": 73,
   "metadata": {},
   "outputs": [
    {
     "data": {
      "text/plain": [
       "'loremipsumloremipsumloremipsumloremipsumloremipsumloremipsumloremipsumloremipsum'"
      ]
     },
     "execution_count": 73,
     "metadata": {},
     "output_type": "execute_result"
    }
   ],
   "source": [
    "show_txt(dec)"
   ]
  },
  {
   "cell_type": "code",
   "execution_count": null,
   "metadata": {},
   "outputs": [],
   "source": []
  }
 ],
 "metadata": {
  "kernelspec": {
   "display_name": "Python 3",
   "language": "python",
   "name": "python3"
  },
  "language_info": {
   "codemirror_mode": {
    "name": "ipython",
    "version": 3
   },
   "file_extension": ".py",
   "mimetype": "text/x-python",
   "name": "python",
   "nbconvert_exporter": "python",
   "pygments_lexer": "ipython3",
   "version": "3.8.1"
  }
 },
 "nbformat": 4,
 "nbformat_minor": 2
}
