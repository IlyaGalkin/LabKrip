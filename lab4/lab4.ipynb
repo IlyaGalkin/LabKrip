{
 "cells": [
  {
   "cell_type": "markdown",
   "metadata": {},
   "source": [
    "# Lab 4"
   ]
  },
  {
   "cell_type": "markdown",
   "metadata": {},
   "source": [
    "# C4.1 Реалiзуйте тест простоти Мiллера-Рабiна."
   ]
  },
  {
   "cell_type": "code",
   "execution_count": 3,
   "metadata": {},
   "outputs": [],
   "source": [
    "import random\n",
    "def test_MR(n, a= random.randint(2, n)):#  a- любое из Zn\n",
    "    d= n-1\n",
    "    s=0\n",
    "    while d%2 != 1:\n",
    "        d = d/2\n",
    "        s=s+1\n",
    "    if (a**d)%n == 1:\n",
    "        print('выполняется первое условие МР (a**d)%n == 1')\n",
    "        return True\n",
    "    else:\n",
    "        for r in range(s):\n",
    "            if (a**(2**r*d))%n == n-1:\n",
    "                print('Выполняется второе условие(a**(2**r*d))%n == n-1')\n",
    "                return True\n",
    "        return False"
   ]
  },
  {
   "cell_type": "code",
   "execution_count": 4,
   "metadata": {},
   "outputs": [
    {
     "name": "stdout",
     "output_type": "stream",
     "text": [
      "Выполняется второе условие(a**(2**r*d))%n == n-1\n"
     ]
    },
    {
     "data": {
      "text/plain": [
       "True"
      ]
     },
     "execution_count": 4,
     "metadata": {},
     "output_type": "execute_result"
    }
   ],
   "source": [
    "n = 53\n",
    "a = 7\n",
    "test_MR(n, a)"
   ]
  },
  {
   "cell_type": "markdown",
   "metadata": {},
   "source": [
    "# C4.2 Реалiзуйте алгоритм iнiцiалiзацiї RSA."
   ]
  },
  {
   "cell_type": "code",
   "execution_count": 1,
   "metadata": {},
   "outputs": [],
   "source": [
    "from math import sqrt\n",
    "\n",
    "import numpy as np\n",
    "\n",
    "\n",
    "def sundaram_sum(col, row):\n",
    "    return col + 2*col*row + row\n",
    "\n",
    "\n",
    "def sundaram_rows(end_point):\n",
    "    s = sqrt(1 + 2*end_point) - 1\n",
    "    return int(s/2)\n",
    "\n",
    "\n",
    "def sundaram_col(start_point, row_number):\n",
    "    col = (start_point - row_number)/(2*row_number + 1.0)\n",
    "    return max(row_number, int(col))\n",
    "\n",
    "\n",
    "def get_primes(begin_interval, end_interval):\n",
    "    begin_sund_interval = int((begin_interval - 1.0)/2)\n",
    "    end_sund_interval = int((end_interval - 1.0)/2)\n",
    "    base_prime = np.ones(end_sund_interval + 1 - begin_sund_interval, \n",
    "                         dtype=np.bool)\n",
    "    count_string = sundaram_rows(end_sund_interval)\n",
    "    for row in range(1, count_string + 1):\n",
    "        col = sundaram_col(begin_sund_interval, row)\n",
    "        row_difference = 2*row + 1\n",
    "        sund_sum = sundaram_sum(col, row)\n",
    "        if begin_sund_interval > sund_sum:\n",
    "            sund_sum += row_difference\n",
    "        base_prime[sund_sum - begin_sund_interval   ::row_difference] = False\n",
    "    return np.r_[((2*(np.nonzero(base_prime)[0] + begin_sund_interval) + 1))]"
   ]
  },
  {
   "cell_type": "code",
   "execution_count": 2,
   "metadata": {},
   "outputs": [],
   "source": [
    "import random\n",
    "\n",
    "\n",
    "def are_relatively_prime(a, b):\n",
    "    for i in range(2, min(a, b) + 1):\n",
    "        if a % i == b % i == 0:\n",
    "            return False\n",
    "    return True\n",
    "\n",
    "\n",
    "def RSA_init(leng, e = 3):\n",
    "    start='1'\n",
    "    stop='9'\n",
    "    for i in range(leng):\n",
    "        start += '0'\n",
    "        stop += '9'\n",
    "    start= int(start)\n",
    "    stop = int(stop)\n",
    "    primes = list(get_primes(start, stop))\n",
    "    p = random.choice(primes)\n",
    "    primes.remove(p)\n",
    "    q = random.choice(primes)\n",
    "    n = p*q\n",
    "    Eil_n = (p-1)*(q-1)\n",
    "    while True:\n",
    "        if are_relatively_prime(e, Eil_n)==True:\n",
    "            break\n",
    "        e+=1\n",
    "    i=1\n",
    "    while True:\n",
    "        d=((n-1)*i)/e\n",
    "        if d%1==0:\n",
    "            break\n",
    "    open_key = [e, n]\n",
    "    priv_key = [d, n]\n",
    "    return open_key, priv_key\n"
   ]
  },
  {
   "cell_type": "code",
   "execution_count": 3,
   "metadata": {},
   "outputs": [
    {
     "data": {
      "text/plain": [
       "([3, 601723], [200574.0, 601723])"
      ]
     },
     "execution_count": 3,
     "metadata": {},
     "output_type": "execute_result"
    }
   ],
   "source": [
    "leng=2\n",
    "open_key, priv_key = RSA_init(leng)\n",
    "(open_key, priv_key)"
   ]
  },
  {
   "cell_type": "markdown",
   "metadata": {},
   "source": [
    "# C4.3 Реалiзуйте алгоритм шифрування RSA."
   ]
  },
  {
   "cell_type": "code",
   "execution_count": 4,
   "metadata": {},
   "outputs": [],
   "source": [
    "import math"
   ]
  },
  {
   "cell_type": "code",
   "execution_count": 5,
   "metadata": {},
   "outputs": [],
   "source": [
    "def RSA_enc(m, open_key):\n",
    "    return (math.pow(m, open_key[0]))%open_key[1]"
   ]
  },
  {
   "cell_type": "code",
   "execution_count": 6,
   "metadata": {},
   "outputs": [
    {
     "data": {
      "text/plain": [
       "125.0"
      ]
     },
     "execution_count": 6,
     "metadata": {},
     "output_type": "execute_result"
    }
   ],
   "source": [
    "m = 5\n",
    "chiph = RSA_enc(m, open_key)\n",
    "chiph"
   ]
  },
  {
   "cell_type": "markdown",
   "metadata": {},
   "source": [
    "# C4.4 Реалiзуйте алгоритм дешифрування RSA."
   ]
  },
  {
   "cell_type": "code",
   "execution_count": 7,
   "metadata": {},
   "outputs": [],
   "source": [
    "def RSA_dec(chiph, priv_key):\n",
    "    return (math.pow(chiph, priv_key[0]))%priv_key[1]\n",
    "#Разложить на простые множетили и сокращать их c n когда они будут превышать его размеры"
   ]
  },
  {
   "cell_type": "code",
   "execution_count": 8,
   "metadata": {},
   "outputs": [
    {
     "ename": "OverflowError",
     "evalue": "math range error",
     "output_type": "error",
     "traceback": [
      "\u001b[1;31m---------------------------------------------------------------------------\u001b[0m",
      "\u001b[1;31mOverflowError\u001b[0m                             Traceback (most recent call last)",
      "\u001b[1;32m<ipython-input-8-0364c7172d3f>\u001b[0m in \u001b[0;36m<module>\u001b[1;34m\u001b[0m\n\u001b[1;32m----> 1\u001b[1;33m \u001b[0mm\u001b[0m \u001b[1;33m=\u001b[0m \u001b[0mRSA_dec\u001b[0m\u001b[1;33m(\u001b[0m\u001b[0mchiph\u001b[0m\u001b[1;33m,\u001b[0m \u001b[0mpriv_key\u001b[0m\u001b[1;33m)\u001b[0m\u001b[1;33m\u001b[0m\u001b[1;33m\u001b[0m\u001b[0m\n\u001b[0m\u001b[0;32m      2\u001b[0m \u001b[0mm\u001b[0m\u001b[1;33m\u001b[0m\u001b[1;33m\u001b[0m\u001b[0m\n",
      "\u001b[1;32m<ipython-input-7-14c2da94dd29>\u001b[0m in \u001b[0;36mRSA_dec\u001b[1;34m(chiph, priv_key)\u001b[0m\n\u001b[0;32m      1\u001b[0m \u001b[1;32mdef\u001b[0m \u001b[0mRSA_dec\u001b[0m\u001b[1;33m(\u001b[0m\u001b[0mchiph\u001b[0m\u001b[1;33m,\u001b[0m \u001b[0mpriv_key\u001b[0m\u001b[1;33m)\u001b[0m\u001b[1;33m:\u001b[0m\u001b[1;33m\u001b[0m\u001b[1;33m\u001b[0m\u001b[0m\n\u001b[1;32m----> 2\u001b[1;33m     \u001b[1;32mreturn\u001b[0m \u001b[1;33m(\u001b[0m\u001b[0mmath\u001b[0m\u001b[1;33m.\u001b[0m\u001b[0mpow\u001b[0m\u001b[1;33m(\u001b[0m\u001b[0mchiph\u001b[0m\u001b[1;33m,\u001b[0m \u001b[0mpriv_key\u001b[0m\u001b[1;33m[\u001b[0m\u001b[1;36m0\u001b[0m\u001b[1;33m]\u001b[0m\u001b[1;33m)\u001b[0m\u001b[1;33m)\u001b[0m\u001b[1;33m%\u001b[0m\u001b[0mpriv_key\u001b[0m\u001b[1;33m[\u001b[0m\u001b[1;36m1\u001b[0m\u001b[1;33m]\u001b[0m\u001b[1;33m\u001b[0m\u001b[1;33m\u001b[0m\u001b[0m\n\u001b[0m",
      "\u001b[1;31mOverflowError\u001b[0m: math range error"
     ]
    }
   ],
   "source": [
    "m = RSA_dec(chiph, priv_key)\n",
    "m"
   ]
  },
  {
   "cell_type": "code",
   "execution_count": null,
   "metadata": {},
   "outputs": [],
   "source": []
  }
 ],
 "metadata": {
  "kernelspec": {
   "display_name": "Python 3",
   "language": "python",
   "name": "python3"
  },
  "language_info": {
   "codemirror_mode": {
    "name": "ipython",
    "version": 3
   },
   "file_extension": ".py",
   "mimetype": "text/x-python",
   "name": "python",
   "nbconvert_exporter": "python",
   "pygments_lexer": "ipython3",
   "version": "3.8.1"
  }
 },
 "nbformat": 4,
 "nbformat_minor": 2
}
