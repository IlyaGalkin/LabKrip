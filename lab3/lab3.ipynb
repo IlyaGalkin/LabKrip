{
 "cells": [
  {
   "cell_type": "markdown",
   "metadata": {},
   "source": [
    "# Lab 3"
   ]
  },
  {
   "cell_type": "markdown",
   "metadata": {},
   "source": [
    "# C3.1 Реалiзуйте хеш функцiю SHA256.\n"
   ]
  },
  {
   "cell_type": "code",
   "execution_count": 15,
   "metadata": {},
   "outputs": [],
   "source": [
    "\n",
    "'''Таблица констант\n",
    "(первые 32 бита дробных частей кубических корней первых 64 простых чисел [от 2 до 311])'''\n",
    "K256 = [\n",
    "    0x428a2f98, 0x71374491, 0xb5c0fbcf, 0xe9b5dba5, 0x3956c25b, 0x59f111f1, 0x923f82a4, 0xab1c5ed5,\n",
    "    0xd807aa98, 0x12835b01, 0x243185be, 0x550c7dc3, 0x72be5d74, 0x80deb1fe, 0x9bdc06a7, 0xc19bf174,\n",
    "    0xe49b69c1, 0xefbe4786, 0x0fc19dc6, 0x240ca1cc, 0x2de92c6f, 0x4a7484aa, 0x5cb0a9dc, 0x76f988da,\n",
    "    0x983e5152, 0xa831c66d, 0xb00327c8, 0xbf597fc7, 0xc6e00bf3, 0xd5a79147, 0x06ca6351, 0x14292967,\n",
    "    0x27b70a85, 0x2e1b2138, 0x4d2c6dfc, 0x53380d13, 0x650a7354, 0x766a0abb, 0x81c2c92e, 0x92722c85,\n",
    "    0xa2bfe8a1, 0xa81a664b, 0xc24b8b70, 0xc76c51a3, 0xd192e819, 0xd6990624, 0xf40e3585, 0x106aa070,\n",
    "    0x19a4c116, 0x1e376c08, 0x2748774c, 0x34b0bcb5, 0x391c0cb3, 0x4ed8aa4a, 0x5b9cca4f, 0x682e6ff3,\n",
    "    0x748f82ee, 0x78a5636f, 0x84c87814, 0x8cc70208, 0x90befffa, 0xa4506ceb, 0xbef9a3f7, 0xc67178f2,\n",
    "]\n",
    "\n",
    "def ch(x: int, y: int, z: int):\n",
    "    return (x & y) ^ (~x & z)\n",
    "\n",
    "def majority(x: int, y: int, z: int):\n",
    "    return (x & y) ^ (x & z) ^ (y & z)\n",
    "\n",
    "\n",
    "def shift_right(x, n):\n",
    "    return (x & 0xffffffff) >> n\n",
    "\n",
    "\n",
    "def rotate_right(x, y):\n",
    "    return (((x & 0xffffffff) >> (y & 31)) | (x << (32 - (y & 31)))) & 0xffffffff\n",
    "\n",
    "\n",
    "def sigma0(x):\n",
    "    return rotate_right(x, 2) ^ rotate_right(x, 13) ^ rotate_right(x, 22)\n",
    "\n",
    "\n",
    "def sigma1(x):\n",
    "    return rotate_right(x, 6) ^ rotate_right(x, 11) ^ rotate_right(x, 25)\n",
    "\n",
    "\n",
    "def gamma0(x):\n",
    "    return rotate_right(x, 7) ^ rotate_right(x, 18) ^ shift_right(x, 3)\n",
    "\n",
    "\n",
    "def gamma1(x):\n",
    "    return rotate_right(x, 17) ^ rotate_right(x, 19) ^ shift_right(x, 10)\n",
    "\n",
    "\n",
    "def generate_hash(message):\n",
    "    if isinstance(message, str):\n",
    "        message = bytearray(message, 'ascii')\n",
    "    elif isinstance(message, bytes):\n",
    "        message = bytearray(message)\n",
    "    else:\n",
    "        print('Error')\n",
    "        return None\n",
    "        #(первые 32 бита дробных частей квадратных корней первых восьми простых чисел [от 2 до 19]):\n",
    "    h0 = 0x6a09e667\n",
    "    h1 = 0xbb67ae85\n",
    "    h2 = 0x3c6ef372\n",
    "    h3 = 0xa54ff53a\n",
    "    h5 = 0x9b05688c\n",
    "    h4 = 0x510e527f\n",
    "    h6 = 0x1f83d9ab\n",
    "    h7 = 0x5be0cd19\n",
    "    length = len(message) * 8 # длинна это количество байтов\n",
    "    message.append(0x80) # конкатенация с единичным битом\n",
    "    while (len(message) * 8 + 64) % 512 != 0:\n",
    "        message.append(0x00)# конкатенация с нулевыми битами\n",
    "\n",
    "    message += length.to_bytes(8, 'big')#конкатенция с длинной исходного сообщения в битах в виде 64-битного числа с порядком байтов от старшего к младшему\n",
    "    blocks = [message[i:i+64] for i in range(0, len(message), 64)] #разбиение на блоки для обработки\n",
    "    for message_block in blocks:\n",
    "        # Prepare message schedule\n",
    "        message_schedule = []\n",
    "        for t in range(0, 64):\n",
    "            if t <= 15:\n",
    "                message_schedule.append(bytes(message_block[t*4:(t*4)+4]))\n",
    "            else:#генерируем дополнительные 48 слов \n",
    "                term1 = gamma1(int.from_bytes(message_schedule[t-2], 'big'))\n",
    "                term2 = int.from_bytes(message_schedule[t-7], 'big')\n",
    "                term3 = gamma0(int.from_bytes(message_schedule[t-15], 'big'))\n",
    "                term4 = int.from_bytes(message_schedule[t-16], 'big')\n",
    "                schedule = ((term1 + term2 + term3 + term4) % 2**32).to_bytes(4, 'big')\n",
    "                message_schedule.append(schedule)\n",
    "\n",
    "        # иницыализация доп переменных\n",
    "        a = h0\n",
    "        b = h1\n",
    "        c = h2\n",
    "        d = h3\n",
    "        e = h4\n",
    "        f = h5\n",
    "        g = h6\n",
    "        h = h7\n",
    "\n",
    "        # основной блок\n",
    "        for t in range(64):\n",
    "            t1 = ((h + sigma1(e) + ch(e, f, g) + K256[t] + int.from_bytes(message_schedule[t], 'big')) % 2**32)\n",
    "            t2 = (sigma0(a) + majority(a, b, c)) % 2**32\n",
    "            h = g\n",
    "            g = f\n",
    "            f = e\n",
    "            e = (d + t1) % 2**32\n",
    "            d = c\n",
    "            c = b\n",
    "            b = a\n",
    "            a = (t1 + t2) % 2**32\n",
    "\n",
    "        # Добавить полученные значения к ранее вычисленному результату\n",
    "        h0 = (h0 + a) % 2**32\n",
    "        h1 = (h1 + b) % 2**32\n",
    "        h2 = (h2 + c) % 2**32\n",
    "        h3 = (h3 + d) % 2**32\n",
    "        h4 = (h4 + e) % 2**32\n",
    "        h5 = (h5 + f) % 2**32\n",
    "        h6 = (h6 + g) % 2**32\n",
    "        h7 = (h7 + h) % 2**32\n",
    "\n",
    "    return ((h0).to_bytes(4, 'big') + (h1).to_bytes(4, 'big') +\n",
    "            (h2).to_bytes(4, 'big') + (h3).to_bytes(4, 'big') +\n",
    "            (h4).to_bytes(4, 'big') + (h5).to_bytes(4, 'big') +\n",
    "            (h6).to_bytes(4, 'big') + (h7).to_bytes(4, 'big'))\n",
    "\n"
   ]
  },
  {
   "cell_type": "code",
   "execution_count": 17,
   "metadata": {},
   "outputs": [
    {
     "name": "stdout",
     "output_type": "stream",
     "text": [
      "3042ad0c909b04af773ca27369680dc9fbbe3fed95fe8e5ea4fab5026e405f4e\n"
     ]
    }
   ],
   "source": [
    "print(generate_hash(\"AskaLengli\").hex())"
   ]
  },
  {
   "cell_type": "markdown",
   "metadata": {},
   "source": [
    "# C3.2 Реалiзуйте алгоритм генерування секретного ключа криптосистеми AES-128 на основi хеш функцiї SHA256"
   ]
  },
  {
   "cell_type": "code",
   "execution_count": 27,
   "metadata": {},
   "outputs": [
    {
     "data": {
      "text/plain": [
       "64"
      ]
     },
     "execution_count": 27,
     "metadata": {},
     "output_type": "execute_result"
    }
   ],
   "source": [
    "len(generate_hash(\"AskaLengli\").hex())"
   ]
  },
  {
   "cell_type": "code",
   "execution_count": 28,
   "metadata": {},
   "outputs": [
    {
     "data": {
      "text/plain": [
       "[[48, 4, 66, 42], [4, 66, 42, 173], [66, 42, 173, 208], [42, 173, 208, 12]]"
      ]
     },
     "execution_count": 28,
     "metadata": {},
     "output_type": "execute_result"
    }
   ],
   "source": [
    "def generate_key(secret_key):#ключ в AES-128 массив 4х4 значений от 0 до 255\n",
    "    lst = [int(generate_hash(secret_key).hex()[i:i+2], 16) for i in range(16)]\n",
    "    #первые 32 значения хэш-функции используем как ключ \n",
    "    return [lst[i:i+4] for i in range(4)]\n",
    "s_k = \"AskaLengli\"\n",
    "generate_key(s_k)"
   ]
  },
  {
   "cell_type": "markdown",
   "metadata": {},
   "source": [
    "# C3.3 Реалiзуйте алгоритм створення i перевiрки HMAC на основi хеш функцiї SHA256"
   ]
  },
  {
   "cell_type": "code",
   "execution_count": 33,
   "metadata": {},
   "outputs": [],
   "source": [
    "import hmac, hashlib\n",
    "def HMAC1(key, msg):\n",
    "    print(hmac.new(\n",
    "        key=b'secret_shared_key',\n",
    "        msg=open('message.txt', 'rb').read(),\n",
    "        digestmod=hashlib.md5\n",
    "    ).hexdigest())"
   ]
  },
  {
   "cell_type": "code",
   "execution_count": 35,
   "metadata": {},
   "outputs": [],
   "source": [
    "def HMAC2( key, msg ) :# ПСЕВДОКОД\n",
    "    # Если размер ключа больше, чем размер блока ...\n",
    "    while len( key ) != block_size:\n",
    "        if len( key ) > block_size:\n",
    "            # Укорачиваем ключ до размера результата хеш-функции\n",
    "            key = key[: block_size]\n",
    "            # (Размер результата хеш-функции обычно меньше (а не равен), чем размер блока хеш-функции)\n",
    "        # Если ключ меньше, чем размер блока хеш-функции ...\n",
    "        if length( key ) < block_size:\n",
    "            # Дополняем ключ нулевой последовательностью\n",
    "            key = key + b'0'\n",
    "            # оператор \"∥\" выполняет склейку строк (последовательностей байт)\n",
    "\n",
    "    ipad = [ '\\x36' * block_size ]\n",
    "    # оператор \"*\" указывает количество повторений последовательности байт,\n",
    "    # а block_size - размер блока хеш-функции, \n",
    "    opad = [ '\\x5c' * block_size ]\n",
    "    \n",
    "    ikeypad = ipad ^ key\n",
    "    # оператор \"^\" выполняет побитовое исключающее ИЛИ (xor)\n",
    "    okeypad = opad ^ key\n",
    "    \n",
    "    return hash( okeypad + hash( ikeypad.append(msg) ) )\n",
    "    # Оператор \"+\" выполняет склейку строк"
   ]
  },
  {
   "cell_type": "code",
   "execution_count": null,
   "metadata": {},
   "outputs": [],
   "source": []
  }
 ],
 "metadata": {
  "kernelspec": {
   "display_name": "Python 3",
   "language": "python",
   "name": "python3"
  },
  "language_info": {
   "codemirror_mode": {
    "name": "ipython",
    "version": 3
   },
   "file_extension": ".py",
   "mimetype": "text/x-python",
   "name": "python",
   "nbconvert_exporter": "python",
   "pygments_lexer": "ipython3",
   "version": "3.8.1"
  }
 },
 "nbformat": 4,
 "nbformat_minor": 2
}
